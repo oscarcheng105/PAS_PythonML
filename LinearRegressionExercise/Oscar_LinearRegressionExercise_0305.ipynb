{
 "cells": [
  {
   "cell_type": "code",
   "execution_count": 1,
   "metadata": {},
   "outputs": [],
   "source": [
    "import numpy as np\n",
    "import matplotlib.pyplot as plt\n",
    "from sklearn.linear_model import LinearRegression"
   ]
  },
  {
   "cell_type": "markdown",
   "metadata": {},
   "source": [
    "# A. Real-world Example - Pizza Size vs Price Prediction\n",
    "\n",
    "Here is the dataset:\n",
    "<div style=\"width:400px\">\n",
    "![](images/trainingData.png)\n",
    "</div>\n"
   ]
  },
  {
   "cell_type": "markdown",
   "metadata": {},
   "source": [
    "## Exercise 1: Use the pizza size/price dataset to draw the scatter plot as below\n",
    "<br>\n",
    "<div style=\"width:500px\">\n",
    "![](images/scatterPlot.png)\n",
    "</div>\n"
   ]
  },
  {
   "cell_type": "code",
   "execution_count": 2,
   "metadata": {},
   "outputs": [
    {
     "data": {
      "image/png": "[encoded data removed]",
      "text/plain": [
       "<Figure size 432x288 with 1 Axes>"
      ]
     },
     "metadata": {
      "needs_background": "light"
     },
     "output_type": "display_data"
    }
   ],
   "source": [
    "x = np.array([[6],[8],[10],[14],[18]]).reshape(-1,1)\n",
    "y = [7,9,13,17.5,18]\n",
    "\n",
    "plt.figure()\n",
    "plt.title('Pizza price plotted against diamter')\n",
    "plt.xlabel('Diameter in inches')\n",
    "plt.ylabel('Price in dollars')\n",
    "plt.plot(x,y,'k.')\n",
    "plt.axis([0,25,0,25])\n",
    "plt.grid(True)\n",
    "plt.show()"
   ]
  },
  {
   "cell_type": "markdown",
   "metadata": {},
   "source": [
    "## Exercise 2: Create the linear regression model, and predict the price for the 12\"  and  24\" pizza"
   ]
  },
  {
   "cell_type": "code",
   "execution_count": 3,
   "metadata": {},
   "outputs": [
    {
     "name": "stdout",
     "output_type": "stream",
     "text": [
      "A 12\" pizza should cost: $13.68\n",
      "A 24\" pizza should cost: $25.40\n"
     ]
    }
   ],
   "source": [
    "from sklearn.linear_model import LinearRegression\n",
    "model = LinearRegression()\n",
    "model.fit(x,y)\n",
    "test_pizza1 = np.array([[12]])\n",
    "predicted_price1 = model.predict(test_pizza1)[0]\n",
    "print('A 12\" pizza should cost: $%.2f' % predicted_price1)\n",
    "\n",
    "\n",
    "test_pizza2 = np.array([[24]])\n",
    "predicted_price2 = model.predict(test_pizza2)[0]\n",
    "print('A 24\" pizza should cost: $%.2f' % predicted_price2)\n"
   ]
  },
  {
   "cell_type": "markdown",
   "metadata": {},
   "source": [
    "## Exercise 3: Draw the linear regression line on the graph"
   ]
  },
  {
   "cell_type": "code",
   "execution_count": 4,
   "metadata": {},
   "outputs": [
    {
     "data": {
      "image/png": "[encoded data removed]",
      "text/plain": [
       "<Figure size 432x288 with 1 Axes>"
      ]
     },
     "metadata": {
      "needs_background": "light"
     },
     "output_type": "display_data"
    }
   ],
   "source": [
    "plt.figure()\n",
    "plt.title('Pizza price plotted against diamter')\n",
    "plt.xlabel('Diameter in inches')\n",
    "plt.ylabel('Price in dollars')\n",
    "plt.plot(x,y,'k.')\n",
    "plt.axis([0,25,0,25])\n",
    "plt.grid(True)\n",
    "\n",
    "model = LinearRegression()\n",
    "model.fit(x,y)\n",
    "\n",
    "l = []\n",
    "for i in range(0, len(x)):\n",
    "    l.append(model.predict(x)[i])\n",
    "\n",
    "plt.plot(x,l)\n",
    "plt.show()"
   ]
  },
  {
   "cell_type": "markdown",
   "metadata": {},
   "source": [
    "## Exercise 4: Evaluate the model using model.score()\n",
    "Test data:\n",
    "\n",
    "X_test = np.array([8, 9, 11, 16, 12]).reshape(-1, 1)\n",
    "\n",
    "Y_test = [11, 8.5, 15, 18, 11]"
   ]
  },
  {
   "cell_type": "code",
   "execution_count": 5,
   "metadata": {},
   "outputs": [
    {
     "data": {
      "text/plain": [
       "0.6620052929422553"
      ]
     },
     "execution_count": 5,
     "metadata": {},
     "output_type": "execute_result"
    }
   ],
   "source": [
    "X_test = np.array([8, 9, 11, 16, 12]).reshape(-1, 1)\n",
    "\n",
    "Y_test = [11, 8.5, 15, 18, 11]\n",
    "\n",
    "model.score(X_test,Y_test)"
   ]
  },
  {
   "cell_type": "markdown",
   "metadata": {},
   "source": [
    "## Exercise 5: Verify model score - Calculate the model score manually and compare with model.score()"
   ]
  },
  {
   "cell_type": "code",
   "execution_count": 6,
   "metadata": {},
   "outputs": [
    {
     "name": "stdout",
     "output_type": "stream",
     "text": [
      "[0.66200529]\n"
     ]
    }
   ],
   "source": [
    "SE = 0.0\n",
    "totalSE = 0.0\n",
    "l = []\n",
    "for i in range(0,len(Y_test)):\n",
    "    l.append(model.predict([X_test[i]]))\n",
    "    SE +=pow(Y_test[i]-l[i],2)\n",
    "    totalSE +=pow(Y_test[i]-(sum(Y_test)/len(Y_test)),2)\n",
    "print(1-SE/totalSE)"
   ]
  },
  {
   "cell_type": "markdown",
   "metadata": {},
   "source": [
    "# B. Project\n",
    "\n",
    "- Project description : describe what you would like to model using linear regression\n",
    "- Data collection\n",
    "- Dataset visualization\n",
    "- Create and train model\n",
    "- Prediction for at least three different cases using the trained model\n",
    "- Model visualization with training and predicted data\n",
    "- Conclusion and discussion"
   ]
  },
  {
   "cell_type": "code",
   "execution_count": 12,
   "metadata": {},
   "outputs": [
    {
     "name": "stdout",
     "output_type": "stream",
     "text": [
      "Coefficient of determination: 0.5877073685225498\n",
      "\n",
      "This dataset tested has a approximate R-Squared of 59% (a medium and slightly strong relationship), meaning every change in the S&P 500 would have 59% effect on Amazon's stock return.\n",
      "\n",
      "Taking the Januaray stock return data of Amazon(0.04242908516) and S&P500(-0.03894737206) in 2018 as example,\n",
      "the data has a percentage error of 0.13029201652280706 in comparison to the best fit line.\n",
      "\n",
      "Taking the June stock return data of Amazon(0.04567589702) and S&P500(0.03602155622) in 2018 as example,\n",
      "the data has a percentage error of -0.04848797501261256 in comparison to the best fit line.\n",
      "\n",
      "Taking the December stock return data of Amazon(0.1443171389) and S&P500(0.07868440166) in 2018 as example,\n",
      "the data has a percentage error of -0.053433399733898185 in comparison to the best fit line.\n"
     ]
    },
    {
     "data": {
      "image/png": "[encoded data removed]",
      "text/plain": [
       "<Figure size 432x288 with 1 Axes>"
      ]
     },
     "metadata": {
      "needs_background": "light"
     },
     "output_type": "display_data"
    }
   ],
   "source": [
    "'''This project models the linear regression relationship between the S&P 500(A huge collection of 500 big company's stock) and Amazaon. \n",
    "    The time period is set on 2017 with each of their return rate in each month(January to December) recorded.\n",
    "    The data collected is from the source of Yahoo Finance, and process throug the method of (New-Odd)/Odd to\n",
    "    find out the return.\n",
    "    '''\n",
    "import numpy as np\n",
    "import matplotlib.pyplot as plt\n",
    "from sklearn.linear_model import LinearRegression\n",
    "\n",
    "sp500_train = np.array([0.03719816034,-0.0003891971881,0.009091208549,0.01157625139,0.004813775091,0.01934882612,0.0005464328111,0.01930297853,0.02218813533,0.00372004301,0.03434255736,0.05617870444]).reshape(-1,1)\n",
    "amzn_train =[0.0261815691,0.04911010258,0.0433708721,0.07527649569,-0.02676398538,0.02043391426,-0.007268878484,-0.01963083874,0.1497166033,0.06466232007,-0.006186555343,0.2406389655]\n",
    "\n",
    "model = LinearRegression()\n",
    "model.fit(sp500_train,amzn_train)\n",
    "\n",
    "plt.figure()\n",
    "plt.title('2017 S&P 500 Stock Return on AMAZON Stock Return')\n",
    "plt.xlabel('S&P 500 Return')\n",
    "plt.ylabel('AMAZON Return')\n",
    "plt.plot(sp500_train,amzn_train,'k.')\n",
    "plt.axis([-0.1,0.1,-0.3,0.3])\n",
    "plt.grid(True)\n",
    "\n",
    "bestfit_y = []\n",
    "bestfit_y.append(model.predict([[-0.1]]))\n",
    "for x in range(0,len(amzn_train)):\n",
    "    bestfit_y.append(model.predict([sp500_train[x]])) \n",
    "bestfit_y.append(model.predict([[0.1]]))\n",
    "sp500_train = np.array([-0.1,0.03719816034,-0.0003891971881,0.009091208549,0.01157625139,0.004813775091,0.01934882612,0.0005464328111,0.01930297853,0.02218813533,0.00372004301,0.03434255736,0.05617870444,0.1]).reshape(-1,1)\n",
    "\n",
    "plt.plot(sp500_train,bestfit_y,'b')\n",
    "plt.xlim=(-0.1, 0.1)\n",
    "plt.ylim=(-0.3,0.3)\n",
    "\n",
    "'''The tested data here is the stock return of both S&P 500 and AMAZON during each month of 2018. \n",
    "We will use this dataset to test if it fits the prediction generated by the 2017 dataset'''\n",
    "\n",
    "sp500 = np.array([-0.03894737206,-0.02688449862,0.002718775132,0.02160834197,0.004842436024,0.03602155622,0.03026321147,0.004294287103,-0.06940335602,0.01785935679,-0.0917768946,0.07868440166]).reshape(-1,1)\n",
    "amzn = [0.04242908516,-0.04304934848,0.08207473143,0.04053941231,0.04306528775,0.04567589702,0.1323645399,-0.004824322028,-0.2021917074,0.05767175013,-0.1113497862,0.1443171389]\n",
    "plt.plot(sp500,amzn,'r.')\n",
    "r2 = model.score(sp500,amzn)\n",
    "print(\"Coefficient of determination: \"+str(r2)+\"\\n\")\n",
    "\n",
    "print(\"This dataset tested has a approximate R-Squared of 59% (a medium and slightly strong relationship), meaning every change in the S&P 500 would have 59% effect on Amazon's stock return.\")\n",
    "\n",
    "percentError = amzn[0]-model.predict([sp500[0]])                               \n",
    "print(\"\\nTaking the Januaray stock return data of Amazon(\" +str(amzn[0])+ \") and S&P500(\" +str(sp500[0][0])+ \") in 2018 as example,\\nthe data has a percentage error of \" + str(percentError[0])+ \" in comparison to the best fit line.\")\n",
    "\n",
    "percentError = amzn[5]-model.predict([sp500[5]])                                \n",
    "print(\"\\nTaking the June stock return data of Amazon(\" +str(amzn[5])+ \") and S&P500(\" +str(sp500[5][0])+ \") in 2018 as example,\\nthe data has a percentage error of \" + str(percentError[0])+ \" in comparison to the best fit line.\")\n",
    "\n",
    "percentError = amzn[11]-model.predict([sp500[11]]) \n",
    "print(\"\\nTaking the December stock return data of Amazon(\" +str(amzn[11])+ \") and S&P500(\" +str(sp500[11][0])+ \") in 2018 as example,\\nthe data has a percentage error of \" + str(percentError[0]) + \" in comparison to the best fit line.\")\n"
   ]
  },
  {
   "cell_type": "code",
   "execution_count": null,
   "metadata": {},
   "outputs": [],
   "source": []
  },
  {
   "cell_type": "code",
   "execution_count": null,
   "metadata": {},
   "outputs": [],
   "source": []
  }
 ],
 "metadata": {
  "kernelspec": {
   "display_name": "Python 3",
   "language": "python",
   "name": "python3"
  },
  "language_info": {
   "codemirror_mode": {
    "name": "ipython",
    "version": 3
   },
   "file_extension": ".py",
   "mimetype": "text/x-python",
   "name": "python",
   "nbconvert_exporter": "python",
   "pygments_lexer": "ipython3",
   "version": "3.7.0"
  }
 },
 "nbformat": 4,
 "nbformat_minor": 2
}
