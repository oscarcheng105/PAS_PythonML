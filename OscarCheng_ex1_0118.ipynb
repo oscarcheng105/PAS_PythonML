{
 "cells": [
  {
   "cell_type": "markdown",
   "metadata": {},
   "source": [
    "## Exerciese 1 \n",
    "Write a Python function to check whether a number is in a given range.\n",
    "\n",
    "test_range(5)\n",
    "\n",
    "Test the number is in the range that is between 3(included) and 9(not included) or not:\n",
    "\n",
    "if yes, print:\n",
    "    5 is in the range\n",
    "    \n",
    "if not in a given range, print:\n",
    "    5 is not in the range"
   ]
  },
  {
   "cell_type": "code",
   "execution_count": 21,
   "metadata": {},
   "outputs": [
    {
     "name": "stdout",
     "output_type": "stream",
     "text": [
      "5 is in the range\n"
     ]
    }
   ],
   "source": [
    "def test_range(n):\n",
    "  # write your implementation\n",
    "    if n>=3 and n<9:\n",
    "        print( str(n) + \" is in the range\")\n",
    "    else:\n",
    "        print( str(n) + \" is not in the range\")\n",
    "\n",
    "test_range(5)"
   ]
  },
  {
   "cell_type": "markdown",
   "metadata": {},
   "source": [
    "## Exercise 2\n",
    "Write a Python function to multiply all the numbers in a list.\n",
    "\n",
    "Sample List : (8, 2, 3, -1, 7)\n",
    "\n",
    "Expected Output : -336 "
   ]
  },
  {
   "cell_type": "code",
   "execution_count": 22,
   "metadata": {},
   "outputs": [
    {
     "name": "stdout",
     "output_type": "stream",
     "text": [
      "-336\n"
     ]
    }
   ],
   "source": [
    "def multiply(numbers):  \n",
    "  # write your implementation\n",
    "    z = numbers[0]\n",
    "    for x in range(1,len(numbers)):\n",
    "        z=z*numbers[x]\n",
    "    return z\n",
    "\n",
    "print(multiply((8, 2, 3, -1, 7)))"
   ]
  },
  {
   "cell_type": "markdown",
   "metadata": {},
   "source": [
    "## Exercise 3\n",
    "Write a Python program to reverse a string.\n",
    "\n",
    "Sample String : \"1234abcd\"\n",
    "\n",
    "Expected Output : \"dcba4321\""
   ]
  },
  {
   "cell_type": "code",
   "execution_count": 23,
   "metadata": {},
   "outputs": [
    {
     "name": "stdout",
     "output_type": "stream",
     "text": [
      "dcba4321\n"
     ]
    }
   ],
   "source": [
    "def string_reverse(str1):\n",
    "  # write your implementation\n",
    "    return str1[::-1]\n",
    "    \n",
    "print(string_reverse('1234abcd'))"
   ]
  },
  {
   "cell_type": "markdown",
   "metadata": {},
   "source": [
    "## Exercise 4\n",
    "\n",
    "Write a Python function that takes two lists and returns True if they have at least one common member.\n",
    "\n",
    "1.Sample List : [1,2,3,4,5], [5,6,7,8,9]\n",
    "\n",
    "  Expected Output : True\n",
    "\n",
    "\n",
    "2.Sample List: [1,2,3,4,5], [6,7,8,9]\n",
    "\n",
    "  Expected Output : False"
   ]
  },
  {
   "cell_type": "code",
   "execution_count": 24,
   "metadata": {},
   "outputs": [
    {
     "name": "stdout",
     "output_type": "stream",
     "text": [
      "True\n",
      "False\n"
     ]
    }
   ],
   "source": [
    "def common_data(list1, list2):\n",
    "  # write your implementation\n",
    "    output = False\n",
    "    for x in range(0,len(list1)):\n",
    "        for y in range(0,len(list2)):\n",
    "            if list1[x]==list2[y]:\n",
    "                output = True\n",
    "    return output\n",
    "print(common_data([1,2,3,4,5], [5,6,7,8,9]))\n",
    "print(common_data([1,2,3,4,5], [6,7,8,9]))"
   ]
  },
  {
   "cell_type": "markdown",
   "metadata": {},
   "source": [
    "## Exercise 5\n",
    "\n",
    "Write a Python script to print a dictionary where the keys are numbers between 1 and 13 (both included) and the values are square of keys.\n",
    "\n",
    "Sample Dictionary \n",
    "{1: 1, 2: 4, 3: 9, 4: 16, 5: 25, 6: 36, 7: 49, 8: 64, 9: 81, 10: 100, 11: 121, 12: 144, 13: 169}\n"
   ]
  },
  {
   "cell_type": "code",
   "execution_count": 25,
   "metadata": {},
   "outputs": [
    {
     "name": "stdout",
     "output_type": "stream",
     "text": [
      "{1: 1, 2: 4, 3: 9, 4: 16, 5: 25, 6: 36, 7: 49, 8: 64, 9: 81, 10: 100, 11: 121, 12: 144, 13: 169}\n"
     ]
    }
   ],
   "source": [
    "d=dict()\n",
    "  # write your implementation\n",
    "for x in range(1,14):\n",
    "    d[x]=(x*x)\n",
    "    \n",
    "print(d)  "
   ]
  },
  {
   "cell_type": "code",
   "execution_count": null,
   "metadata": {},
   "outputs": [],
   "source": []
  },
  {
   "cell_type": "code",
   "execution_count": null,
   "metadata": {},
   "outputs": [],
   "source": []
  }
 ],
 "metadata": {
  "kernelspec": {
   "display_name": "Python 3",
   "language": "python",
   "name": "python3"
  },
  "language_info": {
   "codemirror_mode": {
    "name": "ipython",
    "version": 3
   },
   "file_extension": ".py",
   "mimetype": "text/x-python",
   "name": "python",
   "nbconvert_exporter": "python",
   "pygments_lexer": "ipython3",
   "version": "3.7.0"
  }
 },
 "nbformat": 4,
 "nbformat_minor": 2
}
