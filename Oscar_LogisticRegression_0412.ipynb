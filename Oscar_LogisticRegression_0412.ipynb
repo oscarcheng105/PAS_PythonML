{
 "cells": [
  {
   "cell_type": "markdown",
   "metadata": {},
   "source": [
    "\n",
    "# Logistic Regression\n",
    "\n"
   ]
  },
  {
   "cell_type": "code",
   "execution_count": 98,
   "metadata": {},
   "outputs": [],
   "source": [
    "import numpy as np\n",
    "import sklearn\n",
    "import sklearn.datasets as ds\n",
    "import sklearn.model_selection as ms\n",
    "import matplotlib.pyplot as plt\n",
    "%matplotlib inline"
   ]
  },
  {
   "cell_type": "markdown",
   "metadata": {},
   "source": [
    "# A. Hand-written digits classification \n"
   ]
  },
  {
   "cell_type": "markdown",
   "metadata": {},
   "source": [
    "Loading the digits data set"
   ]
  },
  {
   "cell_type": "code",
   "execution_count": 99,
   "metadata": {},
   "outputs": [
    {
     "data": {
      "text/plain": [
       "(1797, 8, 8)"
      ]
     },
     "execution_count": 99,
     "metadata": {},
     "output_type": "execute_result"
    }
   ],
   "source": [
    "digits = ds.load_digits()\n",
    "digits.images.shape"
   ]
  },
  {
   "cell_type": "markdown",
   "metadata": {},
   "source": [
    "Let's plot a few of these:"
   ]
  },
  {
   "cell_type": "code",
   "execution_count": 100,
   "metadata": {},
   "outputs": [
    {
     "data": {
      "image/png": "[encoded data removed]",
      "text/plain": [
       "<Figure size 432x216 with 10 Axes>"
      ]
     },
     "metadata": {
      "needs_background": "light"
     },
     "output_type": "display_data"
    }
   ],
   "source": [
    "nrows, ncols = 2, 5\n",
    "fig, axes = plt.subplots(nrows, ncols, figsize=(6, 3))\n",
    "\n",
    "for i in range(nrows):\n",
    "    for j in range(ncols):\n",
    "        k = j + i * ncols\n",
    "        ax = axes[i, j]\n",
    "        ax.imshow(digits.images[k, ...], cmap=plt.cm.gray)\n",
    "        ax.set_axis_off()\n",
    "        ax.set_title(digits.target[k])"
   ]
  },
  {
   "cell_type": "markdown",
   "metadata": {},
   "source": [
    "## Classification on Digits\n",
    "Let's try a classification task on the digits. The first thing we'll want to do is split the digits into a training and testing sample:"
   ]
  },
  {
   "cell_type": "code",
   "execution_count": 101,
   "metadata": {},
   "outputs": [
    {
     "name": "stdout",
     "output_type": "stream",
     "text": [
      "(1347, 64) (450, 64)\n"
     ]
    }
   ],
   "source": [
    "from sklearn.model_selection import train_test_split\n",
    "Xtrain, Xtest, ytrain, ytest = train_test_split(digits.data, digits.target)\n",
    "print(Xtrain.shape, Xtest.shape)"
   ]
  },
  {
   "cell_type": "markdown",
   "metadata": {},
   "source": [
    "Create the LogisticRegression model from sklean.linear_model and train your model"
   ]
  },
  {
   "cell_type": "code",
   "execution_count": 102,
   "metadata": {
    "scrolled": true
   },
   "outputs": [
    {
     "name": "stderr",
     "output_type": "stream",
     "text": [
      "/Library/Frameworks/Python.framework/Versions/3.7/lib/python3.7/site-packages/sklearn/linear_model/logistic.py:433: FutureWarning: Default solver will be changed to 'lbfgs' in 0.22. Specify a solver to silence this warning.\n",
      "  FutureWarning)\n",
      "/Library/Frameworks/Python.framework/Versions/3.7/lib/python3.7/site-packages/sklearn/linear_model/logistic.py:460: FutureWarning: Default multi_class will be changed to 'auto' in 0.22. Specify the multi_class option to silence this warning.\n",
      "  \"this warning.\", FutureWarning)\n"
     ]
    }
   ],
   "source": [
    "from sklearn.linear_model import LogisticRegression\n",
    "clf = LogisticRegression()\n",
    "clf.fit(Xtrain, ytrain)\n",
    "ypred = clf.predict(Xtest)"
   ]
  },
  {
   "cell_type": "markdown",
   "metadata": {},
   "source": [
    "We can check our classfication accuracy using model score."
   ]
  },
  {
   "cell_type": "code",
   "execution_count": 103,
   "metadata": {},
   "outputs": [
    {
     "data": {
      "text/plain": [
       "0.9555555555555556"
      ]
     },
     "execution_count": 103,
     "metadata": {},
     "output_type": "execute_result"
    }
   ],
   "source": [
    "clf.score(Xtest, ytest)"
   ]
  },
  {
   "cell_type": "markdown",
   "metadata": {},
   "source": [
    "Pick one image data (ex, 18th test sample) from the testset and perform the predition.  \n",
    "\n",
    "Show the predicted result, the ground truth, and the image."
   ]
  },
  {
   "cell_type": "code",
   "execution_count": 104,
   "metadata": {},
   "outputs": [
    {
     "name": "stdout",
     "output_type": "stream",
     "text": [
      "Predicted Result : 9\n",
      "Ground Truth: 9\n"
     ]
    },
    {
     "data": {
      "image/png": "[encoded data removed]",
      "text/plain": [
       "<Figure size 432x288 with 1 Axes>"
      ]
     },
     "metadata": {
      "needs_background": "light"
     },
     "output_type": "display_data"
    }
   ],
   "source": [
    "test_sample = Xtest[15]\n",
    "plt.imshow(test_sample.reshape(8,8), cmap=plt.cm.gray)\n",
    "print('Predicted Result : %d' % clf.predict(test_sample.reshape(1,-1)))\n",
    "print('Ground Truth: %d' % ytest[15])"
   ]
  },
  {
   "cell_type": "markdown",
   "metadata": {},
   "source": [
    "Show the more results for verification with title of [predition]/ground truth"
   ]
  },
  {
   "cell_type": "code",
   "execution_count": 105,
   "metadata": {},
   "outputs": [
    {
     "data": {
      "image/png": "[encoded data removed]",
      "text/plain": [
       "<Figure size 432x216 with 10 Axes>"
      ]
     },
     "metadata": {
      "needs_background": "light"
     },
     "output_type": "display_data"
    }
   ],
   "source": [
    "nrows, ncols = 2, 5\n",
    "starting = 100\n",
    "fig, axes = plt.subplots(nrows, ncols, figsize=(6, 3))\n",
    "\n",
    "for i in range(10):\n",
    "    axes[int(i/ncols)][i%ncols].imshow(Xtest[starting+i].reshape(8,8), cmap=plt.cm.gray)\n",
    "    axes[int(i/ncols)][i%ncols].set_axis_off()\n",
    "    axes[int(i/ncols)][i%ncols].set_title(\"%s/%s\"%(clf.predict(Xtest[starting+i].reshape(1,-1)), ytest[starting+i]))"
   ]
  },
  {
   "cell_type": "markdown",
   "metadata": {},
   "source": [
    "# B. Debug:\n",
    "\n",
    "This single score number doesn't tell us where we've gone wrong: one nice way to do this is to use the confusion matrix"
   ]
  },
  {
   "cell_type": "code",
   "execution_count": 106,
   "metadata": {},
   "outputs": [
    {
     "name": "stdout",
     "output_type": "stream",
     "text": [
      "[[48  0  0  0  0  0  0  0  0  0]\n",
      " [ 0 55  0  0  0  0  0  0  0  0]\n",
      " [ 0  0 49  1  0  0  0  0  0  0]\n",
      " [ 0  0  0 37  0  1  0  0  0  0]\n",
      " [ 0  1  0  0 47  0  0  0  0  0]\n",
      " [ 0  2  0  1  0 42  1  0  0  0]\n",
      " [ 0  1  0  0  0  0 44  0  1  0]\n",
      " [ 0  1  0  1  0  0  0 28  0  1]\n",
      " [ 0  4  0  1  0  0  0  0 32  0]\n",
      " [ 0  0  0  0  0  1  0  0  2 48]]\n"
     ]
    }
   ],
   "source": [
    "from sklearn.metrics import confusion_matrix\n",
    "print(confusion_matrix(ytest, ypred))"
   ]
  },
  {
   "cell_type": "code",
   "execution_count": 107,
   "metadata": {},
   "outputs": [
    {
     "name": "stderr",
     "output_type": "stream",
     "text": [
      "/Library/Frameworks/Python.framework/Versions/3.7/lib/python3.7/site-packages/ipykernel_launcher.py:1: RuntimeWarning: divide by zero encountered in log\n",
      "  \"\"\"Entry point for launching an IPython kernel.\n"
     ]
    },
    {
     "data": {
      "text/plain": [
       "Text(0.5, 0, 'predicted')"
      ]
     },
     "execution_count": 107,
     "metadata": {},
     "output_type": "execute_result"
    },
    {
     "data": {
      "image/png": "[encoded data removed]",
      "text/plain": [
       "<Figure size 432x288 with 1 Axes>"
      ]
     },
     "metadata": {
      "needs_background": "light"
     },
     "output_type": "display_data"
    }
   ],
   "source": [
    "plt.imshow(np.log(confusion_matrix(ytest, ypred)), cmap='Blues', interpolation\n",
    "='nearest')\n",
    "plt.grid(False)\n",
    "plt.ylabel('true')\n",
    "plt.xlabel('predicted')"
   ]
  },
  {
   "cell_type": "markdown",
   "metadata": {},
   "source": [
    "# C. Compare scores, confusion matrix, and prediction results of KNN and Logistic Regression models"
   ]
  },
  {
   "cell_type": "code",
   "execution_count": 108,
   "metadata": {},
   "outputs": [
    {
     "data": {
      "text/plain": [
       "0.98"
      ]
     },
     "execution_count": 108,
     "metadata": {},
     "output_type": "execute_result"
    }
   ],
   "source": [
    "import sklearn.neighbors as nb\n",
    "knc = nb.KNeighborsClassifier()\n",
    "knc.fit(Xtrain, ytrain)\n",
    "knc.score(Xtest, ytest)"
   ]
  },
  {
   "cell_type": "code",
   "execution_count": 109,
   "metadata": {},
   "outputs": [
    {
     "name": "stdout",
     "output_type": "stream",
     "text": [
      "[[48  0  0  0  0  0  0  0  0  0]\n",
      " [ 0 55  0  0  0  0  0  0  0  0]\n",
      " [ 0  0 50  0  0  0  0  0  0  0]\n",
      " [ 0  0  0 37  0  0  0  0  1  0]\n",
      " [ 0  1  0  0 46  0  0  1  0  0]\n",
      " [ 0  0  0  0  0 45  1  0  0  0]\n",
      " [ 0  0  0  0  0  0 45  0  1  0]\n",
      " [ 0  0  0  0  0  0  0 31  0  0]\n",
      " [ 0  2  0  0  0  0  0  0 35  0]\n",
      " [ 0  0  0  0  1  1  0  0  0 49]]\n"
     ]
    }
   ],
   "source": [
    "ypredK = knc.predict(Xtest)\n",
    "print(confusion_matrix(ytest, ypredK))"
   ]
  },
  {
   "cell_type": "code",
   "execution_count": 110,
   "metadata": {},
   "outputs": [
    {
     "name": "stderr",
     "output_type": "stream",
     "text": [
      "/Library/Frameworks/Python.framework/Versions/3.7/lib/python3.7/site-packages/ipykernel_launcher.py:1: RuntimeWarning: divide by zero encountered in log\n",
      "  \"\"\"Entry point for launching an IPython kernel.\n"
     ]
    },
    {
     "data": {
      "text/plain": [
       "Text(0.5, 0, 'predicted')"
      ]
     },
     "execution_count": 110,
     "metadata": {},
     "output_type": "execute_result"
    },
    {
     "data": {
      "image/png": "[encoded data removed]",
      "text/plain": [
       "<Figure size 432x288 with 1 Axes>"
      ]
     },
     "metadata": {
      "needs_background": "light"
     },
     "output_type": "display_data"
    }
   ],
   "source": [
    "plt.imshow(np.log(confusion_matrix(ytest, ypredK)), cmap='Blues', interpolation\n",
    "='nearest')\n",
    "plt.grid(False)\n",
    "plt.ylabel('true')\n",
    "plt.xlabel('predicted')"
   ]
  },
  {
   "cell_type": "markdown",
   "metadata": {},
   "source": [
    " # D. Test on your own test samples"
   ]
  },
  {
   "cell_type": "code",
   "execution_count": 111,
   "metadata": {},
   "outputs": [
    {
     "data": {
      "image/png": "[encoded data removed]",
      "text/plain": [
       "<Figure size 432x216 with 5 Axes>"
      ]
     },
     "metadata": {
      "needs_background": "light"
     },
     "output_type": "display_data"
    }
   ],
   "source": [
    "from skimage import io\n",
    "from PIL import Image\n",
    "\n",
    "test = []\n",
    "\n",
    "for x in range (5):\n",
    "    sample = Image.open('num'+str(x)+'.png').convert('L')\n",
    "    sample.save('num'+str(x)+'.png')\n",
    "    test.append(io.imread('num'+str(x)+'.png'))\n",
    "\n",
    "nrows, ncols = 1, 5  \n",
    "\n",
    "fig, axes = plt.subplots(nrows, ncols, figsize=(6, 3), squeeze = False)\n",
    "\n",
    "for i in range(5):\n",
    "    axes[int(i/ncols)][i%ncols].imshow(test[i].reshape(8,8), cmap=plt.cm.gray)\n",
    "    axes[int(i/ncols)][i%ncols].set_axis_off()\n",
    "    axes[int(i/ncols)][i%ncols].set_title(\"%s\"%(clf.predict(test[i].reshape(1,-1))))\n",
    "    "
   ]
  },
  {
   "cell_type": "markdown",
   "metadata": {},
   "source": [
    " # E. Discussion\n",
    " Compare the results of KNN and Logistic Regression models."
   ]
  },
  {
   "cell_type": "code",
   "execution_count": 112,
   "metadata": {},
   "outputs": [],
   "source": [
    "#Both are around equal in terms of result. KNN, however, has a higher score than Logistics Regression"
   ]
  }
 ],
 "metadata": {
  "kernelspec": {
   "display_name": "Python 3",
   "language": "python",
   "name": "python3"
  },
  "language_info": {
   "codemirror_mode": {
    "name": "ipython",
    "version": 3
   },
   "file_extension": ".py",
   "mimetype": "text/x-python",
   "name": "python",
   "nbconvert_exporter": "python",
   "pygments_lexer": "ipython3",
   "version": "3.7.0"
  }
 },
 "nbformat": 4,
 "nbformat_minor": 1
}
