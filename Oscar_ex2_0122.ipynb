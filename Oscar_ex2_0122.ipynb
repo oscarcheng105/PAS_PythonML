{
 "cells": [
  {
   "cell_type": "markdown",
   "metadata": {},
   "source": [
    "# Array creation routines"
   ]
  },
  {
   "cell_type": "markdown",
   "metadata": {},
   "source": [
    "## Ones and zeros"
   ]
  },
  {
   "cell_type": "code",
   "execution_count": null,
   "metadata": {},
   "outputs": [],
   "source": [
    "import numpy as np"
   ]
  },
  {
   "cell_type": "markdown",
   "metadata": {},
   "source": [
    "Create a new array of 2*2 integers, without initializing entries."
   ]
  },
  {
   "cell_type": "code",
   "execution_count": 2,
   "metadata": {},
   "outputs": [],
   "source": [
    "a = np.empty([2,2])"
   ]
  },
  {
   "cell_type": "markdown",
   "metadata": {},
   "source": [
    "Let X = np.array([1,2,3], [4,5,6], np.int32). \n",
    "Create a new array with the same shape and type as X."
   ]
  },
  {
   "cell_type": "code",
   "execution_count": null,
   "metadata": {},
   "outputs": [],
   "source": [
    "X = np.array([[1,2,3], [4,5,6]], np.int32)\n",
    "i = np.array(x)"
   ]
  },
  {
   "cell_type": "markdown",
   "metadata": {},
   "source": [
    "Create a 3-D array with ones on the diagonal and zeros elsewhere."
   ]
  },
  {
   "cell_type": "code",
   "execution_count": null,
   "metadata": {},
   "outputs": [],
   "source": [
    "a = np.eye(3)"
   ]
  },
  {
   "cell_type": "markdown",
   "metadata": {},
   "source": [
    "Create a new array of 3*2 float numbers, filled with ones."
   ]
  },
  {
   "cell_type": "code",
   "execution_count": null,
   "metadata": {},
   "outputs": [],
   "source": [
    "b = np.ones([3,2])"
   ]
  },
  {
   "cell_type": "markdown",
   "metadata": {},
   "source": [
    "Let x = np.arange(4, dtype=np.int64). Create an array of ones with the same shape and type as X."
   ]
  },
  {
   "cell_type": "code",
   "execution_count": null,
   "metadata": {},
   "outputs": [],
   "source": [
    "x = np.arange(4, dtype=np.int64)\n",
    "c = np.ones(shape=x.shape,dtype=x.dtype)"
   ]
  },
  {
   "cell_type": "markdown",
   "metadata": {},
   "source": [
    "Create a new array of 3*2 float numbers, filled with zeros."
   ]
  },
  {
   "cell_type": "code",
   "execution_count": null,
   "metadata": {},
   "outputs": [],
   "source": [
    "d = np.zeros([3,2])"
   ]
  },
  {
   "cell_type": "markdown",
   "metadata": {},
   "source": [
    "Let x = np.arange(4, dtype=np.int64). Create an array of zeros with the same shape and type as X."
   ]
  },
  {
   "cell_type": "code",
   "execution_count": null,
   "metadata": {},
   "outputs": [],
   "source": [
    "x = np.arange(4, dtype=np.int64)\n",
    "e = np.zeros(shape = x.shape, dtype = x.dtype)"
   ]
  },
  {
   "cell_type": "markdown",
   "metadata": {},
   "source": [
    "Create a new array of 2*5 uints, filled with 6."
   ]
  },
  {
   "cell_type": "code",
   "execution_count": 3,
   "metadata": {},
   "outputs": [],
   "source": [
    "f = np.full([2,5],6)"
   ]
  },
  {
   "cell_type": "markdown",
   "metadata": {},
   "source": [
    "Let x = np.arange(4, dtype=np.int64). Create an array of 6's with the same shape and type as X."
   ]
  },
  {
   "cell_type": "code",
   "execution_count": null,
   "metadata": {},
   "outputs": [],
   "source": [
    "x = np.arange(4, dtype=np.int64)\n",
    "g = np.full_like(x,6)"
   ]
  },
  {
   "cell_type": "markdown",
   "metadata": {},
   "source": [
    "## From existing data"
   ]
  },
  {
   "cell_type": "markdown",
   "metadata": {},
   "source": [
    "Create an array of [1, 2, 3]."
   ]
  },
  {
   "cell_type": "code",
   "execution_count": null,
   "metadata": {},
   "outputs": [],
   "source": [
    "h = np.arange(1,4)"
   ]
  },
  {
   "cell_type": "markdown",
   "metadata": {},
   "source": [
    "Let x = [1, 2]. Conver it into an array of `float`."
   ]
  },
  {
   "cell_type": "code",
   "execution_count": null,
   "metadata": {},
   "outputs": [],
   "source": [
    "x = [1, 2]\n",
    "x = np.array(x, dtype=float)"
   ]
  },
  {
   "cell_type": "markdown",
   "metadata": {},
   "source": [
    "Let x = np.array([1, 2, 3]). Create a array copy of x, which has a different id from x."
   ]
  },
  {
   "cell_type": "code",
   "execution_count": null,
   "metadata": {},
   "outputs": [],
   "source": [
    "x = np.array([1, 2, 3])\n",
    "y = np.array(x)"
   ]
  },
  {
   "cell_type": "markdown",
   "metadata": {},
   "source": [
    "## Numerical ranges"
   ]
  },
  {
   "cell_type": "markdown",
   "metadata": {},
   "source": [
    "Create an array of 2, 4, 6, 8, ..., 100."
   ]
  },
  {
   "cell_type": "code",
   "execution_count": 6,
   "metadata": {},
   "outputs": [
    {
     "name": "stdout",
     "output_type": "stream",
     "text": [
      "[  2   4   6   8  10  12  14  16  18  20  22  24  26  28  30  32  34  36\n",
      "  38  40  42  44  46  48  50  52  54  56  58  60  62  64  66  68  70  72\n",
      "  74  76  78  80  82  84  86  88  90  92  94  96  98 100]\n"
     ]
    }
   ],
   "source": [
    "h = np.arange(2,102,2)\n",
    "print(h)"
   ]
  },
  {
   "cell_type": "markdown",
   "metadata": {},
   "source": [
    "## Building matrices"
   ]
  },
  {
   "cell_type": "markdown",
   "metadata": {},
   "source": [
    "Let X = np.array([[ 0,  1,  2,  3],\n",
    "                  [ 4,  5,  6,  7],\n",
    "                 [ 8,  9, 10, 11]]).\n",
    "                 Get the diagonal of X, that is, [0, 5, 10]."
   ]
  },
  {
   "cell_type": "code",
   "execution_count": null,
   "metadata": {
    "scrolled": true
   },
   "outputs": [],
   "source": [
    "X = np.array([[ 0, 1, 2, 3], [ 4, 5, 6, 7], [ 8, 9, 10, 11]])\n",
    "k = X[[0,1,2],[0,1,2]]"
   ]
  },
  {
   "cell_type": "markdown",
   "metadata": {},
   "source": [
    "Create a 2-D array whose diagonal equals [1, 2, 3, 4] and 0's elsewhere."
   ]
  },
  {
   "cell_type": "code",
   "execution_count": null,
   "metadata": {},
   "outputs": [],
   "source": [
    "m = np.zeros([4,4], dtype = np.int64)\n",
    "l[[0,1,2,3],[0,1,2,3]]=np.arange(1,5)"
   ]
  },
  {
   "cell_type": "markdown",
   "metadata": {},
   "source": [
    "Write a NumPy program to create a 2d array with 1 on the border and 0 inside\n",
    "\n",
    "Expected Output:\n",
    "Original array:    <br>\n",
    "[[ 1. 1. 1. 1. 1.]  <br>\n",
    "[ 1. 1. 1. 1. 1.]   <br>\n",
    "[ 1. 1. 1. 1. 1.]   <br>\n",
    "[ 1. 1. 1. 1. 1.]   <br>\n",
    "[ 1. 1. 1. 1. 1.]]  <br>\n",
    "1 on the border and 0 inside in the array <br>\n",
    "[[ 1. 1. 1. 1. 1.]  <br>\n",
    "[ 1. 0. 0. 0. 1.]   <br>\n",
    "[ 1. 0. 0. 0. 1.]   <br>\n",
    "[ 1. 0. 0. 0. 1.]   <br>\n",
    "[ 1. 1. 1. 1. 1.]]  <br>\n"
   ]
  },
  {
   "cell_type": "code",
   "execution_count": 14,
   "metadata": {},
   "outputs": [
    {
     "name": "stdout",
     "output_type": "stream",
     "text": [
      "[[1. 1. 1. 1. 1.]\n",
      " [1. 0. 0. 0. 1.]\n",
      " [1. 0. 0. 0. 1.]\n",
      " [1. 0. 0. 0. 1.]\n",
      " [1. 1. 1. 1. 1.]]\n"
     ]
    }
   ],
   "source": [
    "import numpy as np\n",
    "m = np.ones([5,5])\n",
    "for row in range(5):\n",
    "    for col in range(5):\n",
    "        if not (row==0 or row==4 or col==0 or col==4):\n",
    "            m[row,col]=0\n",
    "print(m)"
   ]
  },
  {
   "cell_type": "markdown",
   "metadata": {},
   "source": [
    "# Challenge\n",
    "- Create examples of broadcasting with NumPy arrays.\n",
    "- Implement your own broadcasting function for manually broadcasting in one and two-dimensional cases.\n",
    "- Benchmark NumPy broadcasting and your own custom broadcasting functions with one and two dimensional cases with very large arrays."
   ]
  },
  {
   "cell_type": "code",
   "execution_count": 33,
   "metadata": {},
   "outputs": [
    {
     "name": "stdout",
     "output_type": "stream",
     "text": [
      "Auto Broadcasting:\n",
      " [[0.57574573 0.19049277 0.1979602  ... 0.05924607 0.08255235 0.14957327]\n",
      " [0.13126052 0.03964124 0.13734633 ... 0.09775332 0.21530115 0.15294817]\n",
      " [0.60635949 0.08796613 0.08227255 ... 0.11739555 0.36355933 0.14948753]\n",
      " ...\n",
      " [0.14922689 0.03789675 0.18896607 ... 0.11625676 0.20035609 0.16814849]\n",
      " [0.19743018 0.05070308 0.21573423 ... 0.05333952 0.20686393 0.10991064]\n",
      " [0.60847295 0.13200825 0.00937729 ... 0.1298118  0.17013133 0.11128537]] \n",
      "time: 0.2553389072418213 s\n",
      "Manuel Broadcasting:\n",
      " [[0.57574573 0.19049277 0.1979602  ... 0.05924607 0.08255235 0.14957327]\n",
      " [0.13126052 0.03964124 0.13734633 ... 0.09775332 0.21530115 0.15294817]\n",
      " [0.60635949 0.08796613 0.08227255 ... 0.11739555 0.36355933 0.14948753]\n",
      " ...\n",
      " [0.14922689 0.03789675 0.18896607 ... 0.11625676 0.20035609 0.16814849]\n",
      " [0.19743018 0.05070308 0.21573423 ... 0.05333952 0.20686393 0.10991064]\n",
      " [0.60847295 0.13200825 0.00937729 ... 0.1298118  0.17013133 0.11128537]] \n",
      "time: 0.08999919891357422 s\n"
     ]
    }
   ],
   "source": [
    "import numpy as np\n",
    "import time\n",
    "t = time.time()\n",
    "a = np.random.rand(100,100000)\n",
    "b = np.random.rand(100000)\n",
    "print(\"Auto Broadcasting:\\n\",a*b,\"\\ntime:\",str(time.time()-t),\"s\")\n",
    "t = time.time()\n",
    "b = np.tile(b,(100,1))\n",
    "print(\"Manuel Broadcasting:\\n\",a*b,\"\\ntime:\",str(time.time()-t),\"s\")"
   ]
  },
  {
   "cell_type": "code",
   "execution_count": null,
   "metadata": {},
   "outputs": [],
   "source": []
  },
  {
   "cell_type": "code",
   "execution_count": null,
   "metadata": {},
   "outputs": [],
   "source": []
  }
 ],
 "metadata": {
  "kernelspec": {
   "display_name": "Python 3",
   "language": "python",
   "name": "python3"
  },
  "language_info": {
   "codemirror_mode": {
    "name": "ipython",
    "version": 3
   },
   "file_extension": ".py",
   "mimetype": "text/x-python",
   "name": "python",
   "nbconvert_exporter": "python",
   "pygments_lexer": "ipython3",
   "version": "3.7.0"
  }
 },
 "nbformat": 4,
 "nbformat_minor": 1
}
